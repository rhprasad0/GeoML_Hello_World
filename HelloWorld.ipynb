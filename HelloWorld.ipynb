{
 "cells": [
  {
   "cell_type": "markdown",
   "id": "3f288a26-e1aa-48d8-9f6e-05d810a6146c",
   "metadata": {},
   "source": [
    "# Ryan's First Model - Geospatial ML \"Hello World\"\n",
    "## Prepare to have your mind blown!\n",
    "10/4/2023 rhprasad@outlook.com\n",
    "\n",
    "So we got 80k labeled continent points holed up in PostGIS on RDS, yearning for a more meaningful existence. Can you hear their cries? Let's unleash these puppies upon the world! And by the world... I mean scikit-learn.\n",
    "\n",
    "What's my IP? I need this because I will need to whitelist it if it has changed since my last experiment connecting to RDS."
   ]
  },
  {
   "cell_type": "code",
   "execution_count": 3,
   "id": "5e3f8c1d-ae9b-4838-bffb-53d894b6cd3c",
   "metadata": {
    "tags": []
   },
   "outputs": [
    {
     "name": "stdout",
     "output_type": "stream",
     "text": [
      "My public IP address is: 52.27.224.182\n"
     ]
    }
   ],
   "source": [
    "from requests import get\n",
    "ip = get('https://api.ipify.org').content.decode ('utf8') \n",
    "print ('My public IP address is: {}'.format (ip))"
   ]
  },
  {
   "cell_type": "markdown",
   "id": "f3232fd1-e4f7-43ce-8480-da791f3b4641",
   "metadata": {},
   "source": [
    "Yep, it has changed. Whatever. I am sure there is a good reason for this and I am not using SageMaker Studio as the creators intended. I'll just go change that in the security group settings for my VPC. Some dude on YouTube was saying the only way to get data in is via S3... he may be right! I am very new to this."
   ]
  },
  {
   "cell_type": "markdown",
   "id": "06eeaaca-c15d-4455-894c-8d5befa731ec",
   "metadata": {},
   "source": [
    "![](images/inbound_rules_1004.png)\n",
    "\n",
    "Okay let's test that out!"
   ]
  },
  {
   "cell_type": "code",
   "execution_count": 8,
   "id": "3fae381a-4b38-49d9-bccb-87607f5ff3f6",
   "metadata": {
    "tags": []
   },
   "outputs": [
    {
     "data": {
      "text/html": [
       "<div>\n",
       "<style scoped>\n",
       "    .dataframe tbody tr th:only-of-type {\n",
       "        vertical-align: middle;\n",
       "    }\n",
       "\n",
       "    .dataframe tbody tr th {\n",
       "        vertical-align: top;\n",
       "    }\n",
       "\n",
       "    .dataframe thead th {\n",
       "        text-align: right;\n",
       "    }\n",
       "</style>\n",
       "<table border=\"1\" class=\"dataframe\">\n",
       "  <thead>\n",
       "    <tr style=\"text-align: right;\">\n",
       "      <th></th>\n",
       "      <th>version</th>\n",
       "    </tr>\n",
       "  </thead>\n",
       "  <tbody>\n",
       "    <tr>\n",
       "      <th>0</th>\n",
       "      <td>PostgreSQL 15.3 on x86_64-pc-linux-gnu, compil...</td>\n",
       "    </tr>\n",
       "  </tbody>\n",
       "</table>\n",
       "</div>"
      ],
      "text/plain": [
       "                                             version\n",
       "0  PostgreSQL 15.3 on x86_64-pc-linux-gnu, compil..."
      ]
     },
     "execution_count": 8,
     "metadata": {},
     "output_type": "execute_result"
    }
   ],
   "source": [
    "from sqlalchemy import create_engine\n",
    "from sqlalchemy.sql import text\n",
    "import psycopg2\n",
    "import pandas as pd\n",
    "\n",
    "engine = create_engine(\n",
    "    \"{dialect}+{driver}://{username}:{password}@{host}:{port}/{database}\".format(\n",
    "        dialect=\"postgresql\",\n",
    "        driver=\"psycopg2\",\n",
    "        username=\"postgres\",\n",
    "        password=\"postgres\",\n",
    "        host=\"fastdb.com40arouubf.us-west-2.rds.amazonaws.com\", \n",
    "        port=5432,\n",
    "        database=\"geoml\"\n",
    "    )\n",
    ")\n",
    "\n",
    "with engine.connect() as db_conn:\n",
    "    sql_query = \"SELECT version()\"\n",
    "    df = pd.read_sql_query(sql=text(sql_query), con=db_conn)\n",
    "df"
   ]
  },
  {
   "cell_type": "markdown",
   "id": "fba01c66-4b6e-45d2-b8ba-79e1396a6910",
   "metadata": {},
   "source": [
    "Looks like psycopg2 (db driver that allows us to connect to PostgreSQL) needs to be reinstalled every time we summon it, since these instances are not persistent. If you were wondering, it is easy to do this inline:\n",
    "\n",
    "`%pip install psycopg2-binary`\n",
    "\n",
    "Regardless, looks like we are connected to PostGIS and are ready to rock and roll! Last time, I forgot to check the coordinate system of the data and this is the first item on the to-do list."
   ]
  },
  {
   "cell_type": "code",
   "execution_count": 9,
   "id": "9de0d35c-19dc-4731-806d-160a4b716b0c",
   "metadata": {
    "tags": []
   },
   "outputs": [
    {
     "data": {
      "text/html": [
       "<div>\n",
       "<style scoped>\n",
       "    .dataframe tbody tr th:only-of-type {\n",
       "        vertical-align: middle;\n",
       "    }\n",
       "\n",
       "    .dataframe tbody tr th {\n",
       "        vertical-align: top;\n",
       "    }\n",
       "\n",
       "    .dataframe thead th {\n",
       "        text-align: right;\n",
       "    }\n",
       "</style>\n",
       "<table border=\"1\" class=\"dataframe\">\n",
       "  <thead>\n",
       "    <tr style=\"text-align: right;\">\n",
       "      <th></th>\n",
       "      <th>st_srid</th>\n",
       "    </tr>\n",
       "  </thead>\n",
       "  <tbody>\n",
       "    <tr>\n",
       "      <th>0</th>\n",
       "      <td>4326</td>\n",
       "    </tr>\n",
       "  </tbody>\n",
       "</table>\n",
       "</div>"
      ],
      "text/plain": [
       "   st_srid\n",
       "0     4326"
      ]
     },
     "execution_count": 9,
     "metadata": {},
     "output_type": "execute_result"
    }
   ],
   "source": [
    "with engine.connect() as db_conn:\n",
    "    sql_query = \"SELECT ST_SRID (geom) FROM points_xy LIMIT 1;\"\n",
    "    df = pd.read_sql_query(sql=text(sql_query), con=db_conn)\n",
    "df"
   ]
  },
  {
   "cell_type": "markdown",
   "id": "91204361-a0eb-4a94-bbc9-0e6e52f26269",
   "metadata": {},
   "source": [
    "According to [this document](https://developers.arcgis.com/rest/services-reference/enterprise/pdf/gcs_pdf_11.1.pdf), this Well-Known ID corresponds to WGS84. So all seems to be in order. Let's examine the data."
   ]
  },
  {
   "cell_type": "code",
   "execution_count": 10,
   "id": "c39587a9-9574-411a-a504-ee0e185b276c",
   "metadata": {
    "tags": []
   },
   "outputs": [
    {
     "data": {
      "text/html": [
       "<div>\n",
       "<style scoped>\n",
       "    .dataframe tbody tr th:only-of-type {\n",
       "        vertical-align: middle;\n",
       "    }\n",
       "\n",
       "    .dataframe tbody tr th {\n",
       "        vertical-align: top;\n",
       "    }\n",
       "\n",
       "    .dataframe thead th {\n",
       "        text-align: right;\n",
       "    }\n",
       "</style>\n",
       "<table border=\"1\" class=\"dataframe\">\n",
       "  <thead>\n",
       "    <tr style=\"text-align: right;\">\n",
       "      <th></th>\n",
       "      <th>id</th>\n",
       "      <th>geom</th>\n",
       "      <th>cid</th>\n",
       "    </tr>\n",
       "  </thead>\n",
       "  <tbody>\n",
       "    <tr>\n",
       "      <th>0</th>\n",
       "      <td>1</td>\n",
       "      <td>0101000020E6100000E0B4617AE6982D40C0D9B3AF8860...</td>\n",
       "      <td>1</td>\n",
       "    </tr>\n",
       "    <tr>\n",
       "      <th>1</th>\n",
       "      <td>2</td>\n",
       "      <td>0101000020E6100000402327D98BEF3E400024E42D9E84...</td>\n",
       "      <td>1</td>\n",
       "    </tr>\n",
       "    <tr>\n",
       "      <th>2</th>\n",
       "      <td>3</td>\n",
       "      <td>0101000020E6100000F0D4F6F8827C3E40002B89D02E6F...</td>\n",
       "      <td>1</td>\n",
       "    </tr>\n",
       "    <tr>\n",
       "      <th>3</th>\n",
       "      <td>4</td>\n",
       "      <td>0101000020E6100000E08804F35A392D40308F9C75DB4F...</td>\n",
       "      <td>1</td>\n",
       "    </tr>\n",
       "    <tr>\n",
       "      <th>4</th>\n",
       "      <td>5</td>\n",
       "      <td>0101000020E610000060DB7D9680EA314090BDEB012D61...</td>\n",
       "      <td>1</td>\n",
       "    </tr>\n",
       "    <tr>\n",
       "      <th>5</th>\n",
       "      <td>6</td>\n",
       "      <td>0101000020E6100000A0CE97B6B6D03B4020F190226522...</td>\n",
       "      <td>1</td>\n",
       "    </tr>\n",
       "    <tr>\n",
       "      <th>6</th>\n",
       "      <td>7</td>\n",
       "      <td>0101000020E610000000008E17F45D404040B9E9E81B3B...</td>\n",
       "      <td>1</td>\n",
       "    </tr>\n",
       "    <tr>\n",
       "      <th>7</th>\n",
       "      <td>8</td>\n",
       "      <td>0101000020E610000000475410520B13C040BE458003CC...</td>\n",
       "      <td>1</td>\n",
       "    </tr>\n",
       "    <tr>\n",
       "      <th>8</th>\n",
       "      <td>9</td>\n",
       "      <td>0101000020E610000080AB9CDC402C0FC0780C37696528...</td>\n",
       "      <td>1</td>\n",
       "    </tr>\n",
       "    <tr>\n",
       "      <th>9</th>\n",
       "      <td>10</td>\n",
       "      <td>0101000020E6100000881214493833424080CE3CFDC342...</td>\n",
       "      <td>1</td>\n",
       "    </tr>\n",
       "  </tbody>\n",
       "</table>\n",
       "</div>"
      ],
      "text/plain": [
       "   id                                               geom  cid\n",
       "0   1  0101000020E6100000E0B4617AE6982D40C0D9B3AF8860...    1\n",
       "1   2  0101000020E6100000402327D98BEF3E400024E42D9E84...    1\n",
       "2   3  0101000020E6100000F0D4F6F8827C3E40002B89D02E6F...    1\n",
       "3   4  0101000020E6100000E08804F35A392D40308F9C75DB4F...    1\n",
       "4   5  0101000020E610000060DB7D9680EA314090BDEB012D61...    1\n",
       "5   6  0101000020E6100000A0CE97B6B6D03B4020F190226522...    1\n",
       "6   7  0101000020E610000000008E17F45D404040B9E9E81B3B...    1\n",
       "7   8  0101000020E610000000475410520B13C040BE458003CC...    1\n",
       "8   9  0101000020E610000080AB9CDC402C0FC0780C37696528...    1\n",
       "9  10  0101000020E6100000881214493833424080CE3CFDC342...    1"
      ]
     },
     "execution_count": 10,
     "metadata": {},
     "output_type": "execute_result"
    }
   ],
   "source": [
    "with engine.connect() as db_conn:\n",
    "    sql_query = \"SELECT * from points_xy LIMIT 10;\"\n",
    "    df = pd.read_sql_query(sql=text(sql_query), con=db_conn)\n",
    "df"
   ]
  },
  {
   "cell_type": "markdown",
   "id": "ce7549c9-7cca-48f8-88ce-f9a9c95e8f49",
   "metadata": {},
   "source": [
    "Looks like we need to get the geometry into longitude / latitude features in Pandas. Then we will need to shuffle the data, since it looks like ArcGIS created the dataset one continent at a time. Let's get rid of that nasty hex."
   ]
  },
  {
   "cell_type": "code",
   "execution_count": 11,
   "id": "83598e6a-6bed-4ba3-b3a4-9cb517a77ce4",
   "metadata": {
    "tags": []
   },
   "outputs": [
    {
     "data": {
      "text/html": [
       "<div>\n",
       "<style scoped>\n",
       "    .dataframe tbody tr th:only-of-type {\n",
       "        vertical-align: middle;\n",
       "    }\n",
       "\n",
       "    .dataframe tbody tr th {\n",
       "        vertical-align: top;\n",
       "    }\n",
       "\n",
       "    .dataframe thead th {\n",
       "        text-align: right;\n",
       "    }\n",
       "</style>\n",
       "<table border=\"1\" class=\"dataframe\">\n",
       "  <thead>\n",
       "    <tr style=\"text-align: right;\">\n",
       "      <th></th>\n",
       "      <th>id</th>\n",
       "      <th>st_astext</th>\n",
       "      <th>cid</th>\n",
       "    </tr>\n",
       "  </thead>\n",
       "  <tbody>\n",
       "    <tr>\n",
       "      <th>0</th>\n",
       "      <td>1</td>\n",
       "      <td>POINT(14.798633408000057 10.688542834000032)</td>\n",
       "      <td>1</td>\n",
       "    </tr>\n",
       "    <tr>\n",
       "      <th>1</th>\n",
       "      <td>2</td>\n",
       "      <td>POINT(30.93572766500006 -0.797438706999969)</td>\n",
       "      <td>1</td>\n",
       "    </tr>\n",
       "    <tr>\n",
       "      <th>2</th>\n",
       "      <td>3</td>\n",
       "      <td>POINT(30.486373482000033 -15.717154041999947)</td>\n",
       "      <td>1</td>\n",
       "    </tr>\n",
       "    <tr>\n",
       "      <th>3</th>\n",
       "      <td>4</td>\n",
       "      <td>POINT(14.612022013000058 -16.311942434999935)</td>\n",
       "      <td>1</td>\n",
       "    </tr>\n",
       "    <tr>\n",
       "      <th>4</th>\n",
       "      <td>5</td>\n",
       "      <td>POINT(17.916024595000067 22.379593010000065)</td>\n",
       "      <td>1</td>\n",
       "    </tr>\n",
       "    <tr>\n",
       "      <th>5</th>\n",
       "      <td>6</td>\n",
       "      <td>POINT(27.815287983000076 8.567177849000075)</td>\n",
       "      <td>1</td>\n",
       "    </tr>\n",
       "    <tr>\n",
       "      <th>6</th>\n",
       "      <td>7</td>\n",
       "      <td>POINT(32.73401159700006 5.057723655000075)</td>\n",
       "      <td>1</td>\n",
       "    </tr>\n",
       "    <tr>\n",
       "      <th>7</th>\n",
       "      <td>8</td>\n",
       "      <td>POINT(-4.761055235999947 12.898464211000032)</td>\n",
       "      <td>1</td>\n",
       "    </tr>\n",
       "    <tr>\n",
       "      <th>8</th>\n",
       "      <td>9</td>\n",
       "      <td>POINT(-3.896608088999926 32.31559481800008)</td>\n",
       "      <td>1</td>\n",
       "    </tr>\n",
       "    <tr>\n",
       "      <th>9</th>\n",
       "      <td>10</td>\n",
       "      <td>POINT(36.40015519600007 -14.630401528999982)</td>\n",
       "      <td>1</td>\n",
       "    </tr>\n",
       "  </tbody>\n",
       "</table>\n",
       "</div>"
      ],
      "text/plain": [
       "   id                                      st_astext  cid\n",
       "0   1   POINT(14.798633408000057 10.688542834000032)    1\n",
       "1   2    POINT(30.93572766500006 -0.797438706999969)    1\n",
       "2   3  POINT(30.486373482000033 -15.717154041999947)    1\n",
       "3   4  POINT(14.612022013000058 -16.311942434999935)    1\n",
       "4   5   POINT(17.916024595000067 22.379593010000065)    1\n",
       "5   6    POINT(27.815287983000076 8.567177849000075)    1\n",
       "6   7     POINT(32.73401159700006 5.057723655000075)    1\n",
       "7   8   POINT(-4.761055235999947 12.898464211000032)    1\n",
       "8   9    POINT(-3.896608088999926 32.31559481800008)    1\n",
       "9  10   POINT(36.40015519600007 -14.630401528999982)    1"
      ]
     },
     "execution_count": 11,
     "metadata": {},
     "output_type": "execute_result"
    }
   ],
   "source": [
    "with engine.connect() as db_conn:\n",
    "    sql_query = \"SELECT id, ST_AsText(geom), cid from points_xy LIMIT 10;\"\n",
    "    df = pd.read_sql_query(sql=text(sql_query), con=db_conn)\n",
    "df"
   ]
  },
  {
   "cell_type": "markdown",
   "id": "893b630b-6006-4954-8f8b-f6aef9ea3f86",
   "metadata": {},
   "source": [
    "Now... how to get this text into two floating point columns in pandas... looks like PostGIS has us covered yet again. Amazing software."
   ]
  },
  {
   "cell_type": "code",
   "execution_count": 13,
   "id": "830bcc94-6bc6-41a1-a50c-3de3d6562308",
   "metadata": {
    "tags": []
   },
   "outputs": [
    {
     "data": {
      "text/html": [
       "<div>\n",
       "<style scoped>\n",
       "    .dataframe tbody tr th:only-of-type {\n",
       "        vertical-align: middle;\n",
       "    }\n",
       "\n",
       "    .dataframe tbody tr th {\n",
       "        vertical-align: top;\n",
       "    }\n",
       "\n",
       "    .dataframe thead th {\n",
       "        text-align: right;\n",
       "    }\n",
       "</style>\n",
       "<table border=\"1\" class=\"dataframe\">\n",
       "  <thead>\n",
       "    <tr style=\"text-align: right;\">\n",
       "      <th></th>\n",
       "      <th>lon</th>\n",
       "      <th>lat</th>\n",
       "      <th>continent_id</th>\n",
       "    </tr>\n",
       "  </thead>\n",
       "  <tbody>\n",
       "    <tr>\n",
       "      <th>0</th>\n",
       "      <td>14.798633</td>\n",
       "      <td>10.688543</td>\n",
       "      <td>1</td>\n",
       "    </tr>\n",
       "    <tr>\n",
       "      <th>1</th>\n",
       "      <td>30.935728</td>\n",
       "      <td>-0.797439</td>\n",
       "      <td>1</td>\n",
       "    </tr>\n",
       "    <tr>\n",
       "      <th>2</th>\n",
       "      <td>30.486373</td>\n",
       "      <td>-15.717154</td>\n",
       "      <td>1</td>\n",
       "    </tr>\n",
       "    <tr>\n",
       "      <th>3</th>\n",
       "      <td>14.612022</td>\n",
       "      <td>-16.311942</td>\n",
       "      <td>1</td>\n",
       "    </tr>\n",
       "    <tr>\n",
       "      <th>4</th>\n",
       "      <td>17.916025</td>\n",
       "      <td>22.379593</td>\n",
       "      <td>1</td>\n",
       "    </tr>\n",
       "    <tr>\n",
       "      <th>5</th>\n",
       "      <td>27.815288</td>\n",
       "      <td>8.567178</td>\n",
       "      <td>1</td>\n",
       "    </tr>\n",
       "    <tr>\n",
       "      <th>6</th>\n",
       "      <td>32.734012</td>\n",
       "      <td>5.057724</td>\n",
       "      <td>1</td>\n",
       "    </tr>\n",
       "    <tr>\n",
       "      <th>7</th>\n",
       "      <td>-4.761055</td>\n",
       "      <td>12.898464</td>\n",
       "      <td>1</td>\n",
       "    </tr>\n",
       "    <tr>\n",
       "      <th>8</th>\n",
       "      <td>-3.896608</td>\n",
       "      <td>32.315595</td>\n",
       "      <td>1</td>\n",
       "    </tr>\n",
       "    <tr>\n",
       "      <th>9</th>\n",
       "      <td>36.400155</td>\n",
       "      <td>-14.630402</td>\n",
       "      <td>1</td>\n",
       "    </tr>\n",
       "  </tbody>\n",
       "</table>\n",
       "</div>"
      ],
      "text/plain": [
       "         lon        lat  continent_id\n",
       "0  14.798633  10.688543             1\n",
       "1  30.935728  -0.797439             1\n",
       "2  30.486373 -15.717154             1\n",
       "3  14.612022 -16.311942             1\n",
       "4  17.916025  22.379593             1\n",
       "5  27.815288   8.567178             1\n",
       "6  32.734012   5.057724             1\n",
       "7  -4.761055  12.898464             1\n",
       "8  -3.896608  32.315595             1\n",
       "9  36.400155 -14.630402             1"
      ]
     },
     "execution_count": 13,
     "metadata": {},
     "output_type": "execute_result"
    }
   ],
   "source": [
    "with engine.connect() as db_conn:\n",
    "    sql_query = \"\"\"\n",
    "    SELECT ST_X (ST_Transform (geom, 4326)) AS lon,\n",
    "       ST_Y (ST_Transform (geom, 4326)) AS lat,\n",
    "\t   cid as continent_id\n",
    "    FROM points_xy LIMIT 10;\n",
    "    \"\"\"\n",
    "    df = pd.read_sql_query(sql=text(sql_query), con=db_conn)\n",
    "df"
   ]
  },
  {
   "cell_type": "markdown",
   "id": "f35f2d99-225a-47e1-979f-52d88f609b84",
   "metadata": {},
   "source": [
    "Now to shuffle these guys. So far we have only seen 10 points in Africa, since 1 is the continent ID for Africa."
   ]
  },
  {
   "cell_type": "code",
   "execution_count": 19,
   "id": "0667c233-3b28-47a5-af62-ae07c45ad9db",
   "metadata": {
    "tags": []
   },
   "outputs": [
    {
     "data": {
      "text/html": [
       "<div>\n",
       "<style scoped>\n",
       "    .dataframe tbody tr th:only-of-type {\n",
       "        vertical-align: middle;\n",
       "    }\n",
       "\n",
       "    .dataframe tbody tr th {\n",
       "        vertical-align: top;\n",
       "    }\n",
       "\n",
       "    .dataframe thead th {\n",
       "        text-align: right;\n",
       "    }\n",
       "</style>\n",
       "<table border=\"1\" class=\"dataframe\">\n",
       "  <thead>\n",
       "    <tr style=\"text-align: right;\">\n",
       "      <th></th>\n",
       "      <th>lon</th>\n",
       "      <th>lat</th>\n",
       "      <th>continent_id</th>\n",
       "    </tr>\n",
       "  </thead>\n",
       "  <tbody>\n",
       "    <tr>\n",
       "      <th>59821</th>\n",
       "      <td>176.739902</td>\n",
       "      <td>-38.549811</td>\n",
       "      <td>6</td>\n",
       "    </tr>\n",
       "    <tr>\n",
       "      <th>46569</th>\n",
       "      <td>-92.860529</td>\n",
       "      <td>15.353856</td>\n",
       "      <td>5</td>\n",
       "    </tr>\n",
       "    <tr>\n",
       "      <th>30701</th>\n",
       "      <td>9.583069</td>\n",
       "      <td>48.472944</td>\n",
       "      <td>4</td>\n",
       "    </tr>\n",
       "    <tr>\n",
       "      <th>10178</th>\n",
       "      <td>115.125888</td>\n",
       "      <td>37.617761</td>\n",
       "      <td>2</td>\n",
       "    </tr>\n",
       "    <tr>\n",
       "      <th>978</th>\n",
       "      <td>5.981260</td>\n",
       "      <td>22.637008</td>\n",
       "      <td>1</td>\n",
       "    </tr>\n",
       "    <tr>\n",
       "      <th>...</th>\n",
       "      <td>...</td>\n",
       "      <td>...</td>\n",
       "      <td>...</td>\n",
       "    </tr>\n",
       "    <tr>\n",
       "      <th>17996</th>\n",
       "      <td>96.940243</td>\n",
       "      <td>39.420517</td>\n",
       "      <td>2</td>\n",
       "    </tr>\n",
       "    <tr>\n",
       "      <th>53893</th>\n",
       "      <td>167.279505</td>\n",
       "      <td>-21.080929</td>\n",
       "      <td>6</td>\n",
       "    </tr>\n",
       "    <tr>\n",
       "      <th>65810</th>\n",
       "      <td>-43.570083</td>\n",
       "      <td>-18.181387</td>\n",
       "      <td>7</td>\n",
       "    </tr>\n",
       "    <tr>\n",
       "      <th>4586</th>\n",
       "      <td>35.489182</td>\n",
       "      <td>21.725386</td>\n",
       "      <td>1</td>\n",
       "    </tr>\n",
       "    <tr>\n",
       "      <th>74204</th>\n",
       "      <td>43.401167</td>\n",
       "      <td>-87.219590</td>\n",
       "      <td>8</td>\n",
       "    </tr>\n",
       "  </tbody>\n",
       "</table>\n",
       "<p>80000 rows × 3 columns</p>\n",
       "</div>"
      ],
      "text/plain": [
       "              lon        lat  continent_id\n",
       "59821  176.739902 -38.549811             6\n",
       "46569  -92.860529  15.353856             5\n",
       "30701    9.583069  48.472944             4\n",
       "10178  115.125888  37.617761             2\n",
       "978      5.981260  22.637008             1\n",
       "...           ...        ...           ...\n",
       "17996   96.940243  39.420517             2\n",
       "53893  167.279505 -21.080929             6\n",
       "65810  -43.570083 -18.181387             7\n",
       "4586    35.489182  21.725386             1\n",
       "74204   43.401167 -87.219590             8\n",
       "\n",
       "[80000 rows x 3 columns]"
      ]
     },
     "execution_count": 19,
     "metadata": {},
     "output_type": "execute_result"
    }
   ],
   "source": [
    "with engine.connect() as db_conn:\n",
    "    sql_query = \"\"\"\n",
    "    SELECT ST_X (ST_Transform (geom, 4326)) AS lon,\n",
    "       ST_Y (ST_Transform (geom, 4326)) AS lat,\n",
    "\t   cid as continent_id\n",
    "    FROM points_xy;\n",
    "    \"\"\"\n",
    "    df = pd.read_sql_query(sql=text(sql_query), con=db_conn)\n",
    "df = df.sample(frac=1)\n",
    "df"
   ]
  },
  {
   "cell_type": "markdown",
   "id": "dd899c7c-c772-4c15-b1ea-d920f0ee6dc8",
   "metadata": {},
   "source": [
    "Oookay. Lets get lon and lat into a NumPy array as the two features for the model, and continent_id into another array as the target for scikit-learn. For this exercise, I decided against testing the model here since I am dying to get this thing deployed and hooked up to the front end. Thus, I am not doing a test split. Supposedly I can swap out models pretty easily with the MLops tools in SageMaker and will play with that later. "
   ]
  },
  {
   "cell_type": "code",
   "execution_count": 22,
   "id": "4cae18bb-6797-42f5-b22f-d4337372d38c",
   "metadata": {
    "tags": []
   },
   "outputs": [],
   "source": [
    "features = df[[\"lon\", \"lat\"]].to_numpy()"
   ]
  },
  {
   "cell_type": "code",
   "execution_count": 23,
   "id": "f9c34bd3-20e6-4c38-819d-e164962bf827",
   "metadata": {
    "tags": []
   },
   "outputs": [
    {
     "data": {
      "text/plain": [
       "array([[176.73990212, -38.5498108 ],\n",
       "       [-92.86052899,  15.35385642],\n",
       "       [  9.58306884,  48.47294361],\n",
       "       ...,\n",
       "       [-43.57008325, -18.18138722],\n",
       "       [ 35.48918157,  21.72538618],\n",
       "       [ 43.40116735, -87.21958985]])"
      ]
     },
     "execution_count": 23,
     "metadata": {},
     "output_type": "execute_result"
    }
   ],
   "source": [
    "features"
   ]
  },
  {
   "cell_type": "code",
   "execution_count": 34,
   "id": "792761dd-353d-4eb5-b5a5-ff6efb8b50a2",
   "metadata": {
    "tags": []
   },
   "outputs": [],
   "source": [
    "target = df[[\"continent_id\"]].to_numpy()"
   ]
  },
  {
   "cell_type": "markdown",
   "id": "11ca3b72-1a8b-401f-85c6-88fe992eef9c",
   "metadata": {},
   "source": [
    "Well this was relatively painless. Looks like everything lines up and this path is well trodden. I was expecting a struggle... anyway let's get scikit-learn fired up. \n",
    "\n",
    "**I am going to admit here that I do not know how this algorithm in scikit-learn works! I just want this thing to hook up to my front end!!** I just like programming and maps, okay?"
   ]
  },
  {
   "cell_type": "code",
   "execution_count": 39,
   "id": "5c347ad2-a5f0-4a32-965a-aa7a74815a8e",
   "metadata": {
    "tags": []
   },
   "outputs": [
    {
     "name": "stdout",
     "output_type": "stream",
     "text": [
      "LinearSVC(max_iter=10000)\n"
     ]
    }
   ],
   "source": [
    "from sklearn.svm import LinearSVC\n",
    "lsvc = LinearSVC(verbose=0, max_iter=10000)\n",
    "print(lsvc)"
   ]
  },
  {
   "cell_type": "code",
   "execution_count": null,
   "id": "816c12e6-e216-406f-8890-9579b92837fd",
   "metadata": {
    "tags": []
   },
   "outputs": [
    {
     "name": "stdout",
     "output_type": "stream",
     "text": [
      "Score:  0.6872\n"
     ]
    },
    {
     "name": "stderr",
     "output_type": "stream",
     "text": [
      "/opt/conda/lib/python3.10/site-packages/sklearn/svm/_base.py:1206: ConvergenceWarning: Liblinear failed to converge, increase the number of iterations.\n",
      "  warnings.warn(\n"
     ]
    }
   ],
   "source": [
    "lsvc.fit(features, target.ravel())\n",
    "score = lsvc.score(features, target.ravel())\n",
    "print(\"Score: \", score)"
   ]
  },
  {
   "cell_type": "markdown",
   "id": "84bed7f8-2632-40f0-a563-b65e76176044",
   "metadata": {},
   "source": [
    "My professor mentioned that I should probably steer clear of the linear classifiers on unprojected data if accuracy is important. But this is not Kaggle and of course, that's the first one I chose! For science!\n",
    "\n",
    "Yeah, I really, really want to fiddle with this now. There is a lot of things to mess with - but holding off for now. It's just a warning and I don't really care if it converges. Actually, I do, but my front end is calling. \n",
    "\n",
    "Anyway **IT'S ALIVE MUAHAHA**"
   ]
  },
  {
   "cell_type": "code",
   "execution_count": 41,
   "id": "bf033df4-6d46-4c44-9434-38d9cc202848",
   "metadata": {
    "tags": []
   },
   "outputs": [
    {
     "data": {
      "text/plain": [
       "array([1])"
      ]
     },
     "execution_count": 41,
     "metadata": {},
     "output_type": "execute_result"
    }
   ],
   "source": [
    "lsvc.predict([[16,8]])"
   ]
  },
  {
   "cell_type": "code",
   "execution_count": 42,
   "id": "2b165001-65b1-441e-b59b-d953c2b9b24d",
   "metadata": {
    "tags": []
   },
   "outputs": [
    {
     "data": {
      "text/plain": [
       "array([5])"
      ]
     },
     "execution_count": 42,
     "metadata": {},
     "output_type": "execute_result"
    }
   ],
   "source": [
    "lsvc.predict([[-98,36]])"
   ]
  },
  {
   "cell_type": "markdown",
   "id": "10ecb883-040f-4084-86ae-a64971f6dc71",
   "metadata": {},
   "source": [
    "![](images/points_ids_nonb.png)\n",
    "\n",
    "Yep I am already happy with this. That was two consective correct predictions for Africa and North America. Gonna get some funky results in the water, but I'll play around with that later. Next up... deployment! "
   ]
  }
 ],
 "metadata": {
  "availableInstances": [
   {
    "_defaultOrder": 0,
    "_isFastLaunch": true,
    "category": "General purpose",
    "gpuNum": 0,
    "hideHardwareSpecs": false,
    "memoryGiB": 4,
    "name": "ml.t3.medium",
    "vcpuNum": 2
   },
   {
    "_defaultOrder": 1,
    "_isFastLaunch": false,
    "category": "General purpose",
    "gpuNum": 0,
    "hideHardwareSpecs": false,
    "memoryGiB": 8,
    "name": "ml.t3.large",
    "vcpuNum": 2
   },
   {
    "_defaultOrder": 2,
    "_isFastLaunch": false,
    "category": "General purpose",
    "gpuNum": 0,
    "hideHardwareSpecs": false,
    "memoryGiB": 16,
    "name": "ml.t3.xlarge",
    "vcpuNum": 4
   },
   {
    "_defaultOrder": 3,
    "_isFastLaunch": false,
    "category": "General purpose",
    "gpuNum": 0,
    "hideHardwareSpecs": false,
    "memoryGiB": 32,
    "name": "ml.t3.2xlarge",
    "vcpuNum": 8
   },
   {
    "_defaultOrder": 4,
    "_isFastLaunch": true,
    "category": "General purpose",
    "gpuNum": 0,
    "hideHardwareSpecs": false,
    "memoryGiB": 8,
    "name": "ml.m5.large",
    "vcpuNum": 2
   },
   {
    "_defaultOrder": 5,
    "_isFastLaunch": false,
    "category": "General purpose",
    "gpuNum": 0,
    "hideHardwareSpecs": false,
    "memoryGiB": 16,
    "name": "ml.m5.xlarge",
    "vcpuNum": 4
   },
   {
    "_defaultOrder": 6,
    "_isFastLaunch": false,
    "category": "General purpose",
    "gpuNum": 0,
    "hideHardwareSpecs": false,
    "memoryGiB": 32,
    "name": "ml.m5.2xlarge",
    "vcpuNum": 8
   },
   {
    "_defaultOrder": 7,
    "_isFastLaunch": false,
    "category": "General purpose",
    "gpuNum": 0,
    "hideHardwareSpecs": false,
    "memoryGiB": 64,
    "name": "ml.m5.4xlarge",
    "vcpuNum": 16
   },
   {
    "_defaultOrder": 8,
    "_isFastLaunch": false,
    "category": "General purpose",
    "gpuNum": 0,
    "hideHardwareSpecs": false,
    "memoryGiB": 128,
    "name": "ml.m5.8xlarge",
    "vcpuNum": 32
   },
   {
    "_defaultOrder": 9,
    "_isFastLaunch": false,
    "category": "General purpose",
    "gpuNum": 0,
    "hideHardwareSpecs": false,
    "memoryGiB": 192,
    "name": "ml.m5.12xlarge",
    "vcpuNum": 48
   },
   {
    "_defaultOrder": 10,
    "_isFastLaunch": false,
    "category": "General purpose",
    "gpuNum": 0,
    "hideHardwareSpecs": false,
    "memoryGiB": 256,
    "name": "ml.m5.16xlarge",
    "vcpuNum": 64
   },
   {
    "_defaultOrder": 11,
    "_isFastLaunch": false,
    "category": "General purpose",
    "gpuNum": 0,
    "hideHardwareSpecs": false,
    "memoryGiB": 384,
    "name": "ml.m5.24xlarge",
    "vcpuNum": 96
   },
   {
    "_defaultOrder": 12,
    "_isFastLaunch": false,
    "category": "General purpose",
    "gpuNum": 0,
    "hideHardwareSpecs": false,
    "memoryGiB": 8,
    "name": "ml.m5d.large",
    "vcpuNum": 2
   },
   {
    "_defaultOrder": 13,
    "_isFastLaunch": false,
    "category": "General purpose",
    "gpuNum": 0,
    "hideHardwareSpecs": false,
    "memoryGiB": 16,
    "name": "ml.m5d.xlarge",
    "vcpuNum": 4
   },
   {
    "_defaultOrder": 14,
    "_isFastLaunch": false,
    "category": "General purpose",
    "gpuNum": 0,
    "hideHardwareSpecs": false,
    "memoryGiB": 32,
    "name": "ml.m5d.2xlarge",
    "vcpuNum": 8
   },
   {
    "_defaultOrder": 15,
    "_isFastLaunch": false,
    "category": "General purpose",
    "gpuNum": 0,
    "hideHardwareSpecs": false,
    "memoryGiB": 64,
    "name": "ml.m5d.4xlarge",
    "vcpuNum": 16
   },
   {
    "_defaultOrder": 16,
    "_isFastLaunch": false,
    "category": "General purpose",
    "gpuNum": 0,
    "hideHardwareSpecs": false,
    "memoryGiB": 128,
    "name": "ml.m5d.8xlarge",
    "vcpuNum": 32
   },
   {
    "_defaultOrder": 17,
    "_isFastLaunch": false,
    "category": "General purpose",
    "gpuNum": 0,
    "hideHardwareSpecs": false,
    "memoryGiB": 192,
    "name": "ml.m5d.12xlarge",
    "vcpuNum": 48
   },
   {
    "_defaultOrder": 18,
    "_isFastLaunch": false,
    "category": "General purpose",
    "gpuNum": 0,
    "hideHardwareSpecs": false,
    "memoryGiB": 256,
    "name": "ml.m5d.16xlarge",
    "vcpuNum": 64
   },
   {
    "_defaultOrder": 19,
    "_isFastLaunch": false,
    "category": "General purpose",
    "gpuNum": 0,
    "hideHardwareSpecs": false,
    "memoryGiB": 384,
    "name": "ml.m5d.24xlarge",
    "vcpuNum": 96
   },
   {
    "_defaultOrder": 20,
    "_isFastLaunch": false,
    "category": "General purpose",
    "gpuNum": 0,
    "hideHardwareSpecs": true,
    "memoryGiB": 0,
    "name": "ml.geospatial.interactive",
    "supportedImageNames": [
     "sagemaker-geospatial-v1-0"
    ],
    "vcpuNum": 0
   },
   {
    "_defaultOrder": 21,
    "_isFastLaunch": true,
    "category": "Compute optimized",
    "gpuNum": 0,
    "hideHardwareSpecs": false,
    "memoryGiB": 4,
    "name": "ml.c5.large",
    "vcpuNum": 2
   },
   {
    "_defaultOrder": 22,
    "_isFastLaunch": false,
    "category": "Compute optimized",
    "gpuNum": 0,
    "hideHardwareSpecs": false,
    "memoryGiB": 8,
    "name": "ml.c5.xlarge",
    "vcpuNum": 4
   },
   {
    "_defaultOrder": 23,
    "_isFastLaunch": false,
    "category": "Compute optimized",
    "gpuNum": 0,
    "hideHardwareSpecs": false,
    "memoryGiB": 16,
    "name": "ml.c5.2xlarge",
    "vcpuNum": 8
   },
   {
    "_defaultOrder": 24,
    "_isFastLaunch": false,
    "category": "Compute optimized",
    "gpuNum": 0,
    "hideHardwareSpecs": false,
    "memoryGiB": 32,
    "name": "ml.c5.4xlarge",
    "vcpuNum": 16
   },
   {
    "_defaultOrder": 25,
    "_isFastLaunch": false,
    "category": "Compute optimized",
    "gpuNum": 0,
    "hideHardwareSpecs": false,
    "memoryGiB": 72,
    "name": "ml.c5.9xlarge",
    "vcpuNum": 36
   },
   {
    "_defaultOrder": 26,
    "_isFastLaunch": false,
    "category": "Compute optimized",
    "gpuNum": 0,
    "hideHardwareSpecs": false,
    "memoryGiB": 96,
    "name": "ml.c5.12xlarge",
    "vcpuNum": 48
   },
   {
    "_defaultOrder": 27,
    "_isFastLaunch": false,
    "category": "Compute optimized",
    "gpuNum": 0,
    "hideHardwareSpecs": false,
    "memoryGiB": 144,
    "name": "ml.c5.18xlarge",
    "vcpuNum": 72
   },
   {
    "_defaultOrder": 28,
    "_isFastLaunch": false,
    "category": "Compute optimized",
    "gpuNum": 0,
    "hideHardwareSpecs": false,
    "memoryGiB": 192,
    "name": "ml.c5.24xlarge",
    "vcpuNum": 96
   },
   {
    "_defaultOrder": 29,
    "_isFastLaunch": true,
    "category": "Accelerated computing",
    "gpuNum": 1,
    "hideHardwareSpecs": false,
    "memoryGiB": 16,
    "name": "ml.g4dn.xlarge",
    "vcpuNum": 4
   },
   {
    "_defaultOrder": 30,
    "_isFastLaunch": false,
    "category": "Accelerated computing",
    "gpuNum": 1,
    "hideHardwareSpecs": false,
    "memoryGiB": 32,
    "name": "ml.g4dn.2xlarge",
    "vcpuNum": 8
   },
   {
    "_defaultOrder": 31,
    "_isFastLaunch": false,
    "category": "Accelerated computing",
    "gpuNum": 1,
    "hideHardwareSpecs": false,
    "memoryGiB": 64,
    "name": "ml.g4dn.4xlarge",
    "vcpuNum": 16
   },
   {
    "_defaultOrder": 32,
    "_isFastLaunch": false,
    "category": "Accelerated computing",
    "gpuNum": 1,
    "hideHardwareSpecs": false,
    "memoryGiB": 128,
    "name": "ml.g4dn.8xlarge",
    "vcpuNum": 32
   },
   {
    "_defaultOrder": 33,
    "_isFastLaunch": false,
    "category": "Accelerated computing",
    "gpuNum": 4,
    "hideHardwareSpecs": false,
    "memoryGiB": 192,
    "name": "ml.g4dn.12xlarge",
    "vcpuNum": 48
   },
   {
    "_defaultOrder": 34,
    "_isFastLaunch": false,
    "category": "Accelerated computing",
    "gpuNum": 1,
    "hideHardwareSpecs": false,
    "memoryGiB": 256,
    "name": "ml.g4dn.16xlarge",
    "vcpuNum": 64
   },
   {
    "_defaultOrder": 35,
    "_isFastLaunch": false,
    "category": "Accelerated computing",
    "gpuNum": 1,
    "hideHardwareSpecs": false,
    "memoryGiB": 61,
    "name": "ml.p3.2xlarge",
    "vcpuNum": 8
   },
   {
    "_defaultOrder": 36,
    "_isFastLaunch": false,
    "category": "Accelerated computing",
    "gpuNum": 4,
    "hideHardwareSpecs": false,
    "memoryGiB": 244,
    "name": "ml.p3.8xlarge",
    "vcpuNum": 32
   },
   {
    "_defaultOrder": 37,
    "_isFastLaunch": false,
    "category": "Accelerated computing",
    "gpuNum": 8,
    "hideHardwareSpecs": false,
    "memoryGiB": 488,
    "name": "ml.p3.16xlarge",
    "vcpuNum": 64
   },
   {
    "_defaultOrder": 38,
    "_isFastLaunch": false,
    "category": "Accelerated computing",
    "gpuNum": 8,
    "hideHardwareSpecs": false,
    "memoryGiB": 768,
    "name": "ml.p3dn.24xlarge",
    "vcpuNum": 96
   },
   {
    "_defaultOrder": 39,
    "_isFastLaunch": false,
    "category": "Memory Optimized",
    "gpuNum": 0,
    "hideHardwareSpecs": false,
    "memoryGiB": 16,
    "name": "ml.r5.large",
    "vcpuNum": 2
   },
   {
    "_defaultOrder": 40,
    "_isFastLaunch": false,
    "category": "Memory Optimized",
    "gpuNum": 0,
    "hideHardwareSpecs": false,
    "memoryGiB": 32,
    "name": "ml.r5.xlarge",
    "vcpuNum": 4
   },
   {
    "_defaultOrder": 41,
    "_isFastLaunch": false,
    "category": "Memory Optimized",
    "gpuNum": 0,
    "hideHardwareSpecs": false,
    "memoryGiB": 64,
    "name": "ml.r5.2xlarge",
    "vcpuNum": 8
   },
   {
    "_defaultOrder": 42,
    "_isFastLaunch": false,
    "category": "Memory Optimized",
    "gpuNum": 0,
    "hideHardwareSpecs": false,
    "memoryGiB": 128,
    "name": "ml.r5.4xlarge",
    "vcpuNum": 16
   },
   {
    "_defaultOrder": 43,
    "_isFastLaunch": false,
    "category": "Memory Optimized",
    "gpuNum": 0,
    "hideHardwareSpecs": false,
    "memoryGiB": 256,
    "name": "ml.r5.8xlarge",
    "vcpuNum": 32
   },
   {
    "_defaultOrder": 44,
    "_isFastLaunch": false,
    "category": "Memory Optimized",
    "gpuNum": 0,
    "hideHardwareSpecs": false,
    "memoryGiB": 384,
    "name": "ml.r5.12xlarge",
    "vcpuNum": 48
   },
   {
    "_defaultOrder": 45,
    "_isFastLaunch": false,
    "category": "Memory Optimized",
    "gpuNum": 0,
    "hideHardwareSpecs": false,
    "memoryGiB": 512,
    "name": "ml.r5.16xlarge",
    "vcpuNum": 64
   },
   {
    "_defaultOrder": 46,
    "_isFastLaunch": false,
    "category": "Memory Optimized",
    "gpuNum": 0,
    "hideHardwareSpecs": false,
    "memoryGiB": 768,
    "name": "ml.r5.24xlarge",
    "vcpuNum": 96
   },
   {
    "_defaultOrder": 47,
    "_isFastLaunch": false,
    "category": "Accelerated computing",
    "gpuNum": 1,
    "hideHardwareSpecs": false,
    "memoryGiB": 16,
    "name": "ml.g5.xlarge",
    "vcpuNum": 4
   },
   {
    "_defaultOrder": 48,
    "_isFastLaunch": false,
    "category": "Accelerated computing",
    "gpuNum": 1,
    "hideHardwareSpecs": false,
    "memoryGiB": 32,
    "name": "ml.g5.2xlarge",
    "vcpuNum": 8
   },
   {
    "_defaultOrder": 49,
    "_isFastLaunch": false,
    "category": "Accelerated computing",
    "gpuNum": 1,
    "hideHardwareSpecs": false,
    "memoryGiB": 64,
    "name": "ml.g5.4xlarge",
    "vcpuNum": 16
   },
   {
    "_defaultOrder": 50,
    "_isFastLaunch": false,
    "category": "Accelerated computing",
    "gpuNum": 1,
    "hideHardwareSpecs": false,
    "memoryGiB": 128,
    "name": "ml.g5.8xlarge",
    "vcpuNum": 32
   },
   {
    "_defaultOrder": 51,
    "_isFastLaunch": false,
    "category": "Accelerated computing",
    "gpuNum": 1,
    "hideHardwareSpecs": false,
    "memoryGiB": 256,
    "name": "ml.g5.16xlarge",
    "vcpuNum": 64
   },
   {
    "_defaultOrder": 52,
    "_isFastLaunch": false,
    "category": "Accelerated computing",
    "gpuNum": 4,
    "hideHardwareSpecs": false,
    "memoryGiB": 192,
    "name": "ml.g5.12xlarge",
    "vcpuNum": 48
   },
   {
    "_defaultOrder": 53,
    "_isFastLaunch": false,
    "category": "Accelerated computing",
    "gpuNum": 4,
    "hideHardwareSpecs": false,
    "memoryGiB": 384,
    "name": "ml.g5.24xlarge",
    "vcpuNum": 96
   },
   {
    "_defaultOrder": 54,
    "_isFastLaunch": false,
    "category": "Accelerated computing",
    "gpuNum": 8,
    "hideHardwareSpecs": false,
    "memoryGiB": 768,
    "name": "ml.g5.48xlarge",
    "vcpuNum": 192
   },
   {
    "_defaultOrder": 55,
    "_isFastLaunch": false,
    "category": "Accelerated computing",
    "gpuNum": 8,
    "hideHardwareSpecs": false,
    "memoryGiB": 1152,
    "name": "ml.p4d.24xlarge",
    "vcpuNum": 96
   },
   {
    "_defaultOrder": 56,
    "_isFastLaunch": false,
    "category": "Accelerated computing",
    "gpuNum": 8,
    "hideHardwareSpecs": false,
    "memoryGiB": 1152,
    "name": "ml.p4de.24xlarge",
    "vcpuNum": 96
   }
  ],
  "kernelspec": {
   "display_name": "Python 3 (Data Science 3.0)",
   "language": "python",
   "name": "python3__SAGEMAKER_INTERNAL__arn:aws:sagemaker:us-west-2:236514542706:image/sagemaker-data-science-310-v1"
  },
  "language_info": {
   "codemirror_mode": {
    "name": "ipython",
    "version": 3
   },
   "file_extension": ".py",
   "mimetype": "text/x-python",
   "name": "python",
   "nbconvert_exporter": "python",
   "pygments_lexer": "ipython3",
   "version": "3.10.6"
  }
 },
 "nbformat": 4,
 "nbformat_minor": 5
}
